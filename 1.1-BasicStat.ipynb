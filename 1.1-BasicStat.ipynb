{
  "cells": [
    {
      "cell_type": "code",
      "execution_count": 2,
      "metadata": {
        "colab": {},
        "colab_type": "code",
        "id": "CKsRyJsfBbmE"
      },
      "outputs": [],
      "source": [
        "#importing libraries\n"
      ]
    },
    {
      "cell_type": "code",
      "execution_count": 3,
      "metadata": {
        "colab": {
          "base_uri": "https://localhost:8080/",
          "height": 352
        },
        "colab_type": "code",
        "id": "xzlRdqBJBfCs",
        "outputId": "782bab04-4b65-4247-ca56-b7c7b345e41d"
      },
      "outputs": [
        {
          "ename": "ModuleNotFoundError",
          "evalue": "No module named 'numpy'",
          "output_type": "error",
          "traceback": [
            "\u001b[1;31m---------------------------------------------------------------------------\u001b[0m",
            "\u001b[1;31mModuleNotFoundError\u001b[0m                       Traceback (most recent call last)",
            "Cell \u001b[1;32mIn [3], line 1\u001b[0m\n\u001b[1;32m----> 1\u001b[0m \u001b[38;5;28;01mimport\u001b[39;00m \u001b[38;5;21;01mnumpy\u001b[39;00m \u001b[38;5;28;01mas\u001b[39;00m \u001b[38;5;21;01mnp\u001b[39;00m\n\u001b[0;32m      2\u001b[0m \u001b[38;5;28;01mimport\u001b[39;00m \u001b[38;5;21;01mpandas\u001b[39;00m \u001b[38;5;28;01mas\u001b[39;00m \u001b[38;5;21;01mpd\u001b[39;00m\n\u001b[0;32m      3\u001b[0m url\u001b[38;5;241m=\u001b[39m\u001b[38;5;124m'\u001b[39m\u001b[38;5;124mhttps://raw.githubusercontent.com/FazlyRabbiBD/StatisticsBasic/master/GPA.csv\u001b[39m\u001b[38;5;124m'\u001b[39m\n",
            "\u001b[1;31mModuleNotFoundError\u001b[0m: No module named 'numpy'"
          ]
        }
      ],
      "source": [
        "import numpy as np\n",
        "import pandas as pd\n",
        "url='https://raw.githubusercontent.com/FazlyRabbiBD/StatisticsBasic/master/GPA.csv'\n",
        "df = pd.read_csv(url)\n",
        "df"
      ]
    },
    {
      "cell_type": "code",
      "execution_count": null,
      "metadata": {
        "colab": {
          "base_uri": "https://localhost:8080/",
          "height": 106
        },
        "colab_type": "code",
        "id": "hcussXcNFTg5",
        "outputId": "4bfe077a-5410-4d81-9d6f-bd423cfb242d"
      },
      "outputs": [
        {
          "data": {
            "text/plain": [
              "Name          10\n",
              "StudyTime     10\n",
              "GamingHour    10\n",
              "GPA           10\n",
              "dtype: int64"
            ]
          },
          "execution_count": 6,
          "metadata": {
            "tags": []
          },
          "output_type": "execute_result"
        }
      ],
      "source": [
        "#Counting\n",
        "df.count()"
      ]
    },
    {
      "cell_type": "code",
      "execution_count": null,
      "metadata": {
        "colab": {
          "base_uri": "https://localhost:8080/",
          "height": 35
        },
        "colab_type": "code",
        "id": "Z0B1XO1BFePp",
        "outputId": "42b686a5-c0dc-47c3-b65e-6bf07bb74143"
      },
      "outputs": [
        {
          "data": {
            "text/plain": [
              "9.0"
            ]
          },
          "execution_count": 7,
          "metadata": {
            "tags": []
          },
          "output_type": "execute_result"
        }
      ],
      "source": [
        "#Use of sum function\n",
        "df.GamingHour.sum()"
      ]
    },
    {
      "cell_type": "code",
      "execution_count": null,
      "metadata": {
        "colab": {
          "base_uri": "https://localhost:8080/",
          "height": 212
        },
        "colab_type": "code",
        "id": "al7OfTv8GkUc",
        "outputId": "a228284f-ea1c-4f96-9795-e6c0e8a81bb8"
      },
      "outputs": [
        {
          "data": {
            "text/plain": [
              "0    0.5\n",
              "1    1.5\n",
              "2    2.0\n",
              "3    2.0\n",
              "4    2.5\n",
              "5    5.5\n",
              "6    5.5\n",
              "7    6.0\n",
              "8    7.0\n",
              "9    9.0\n",
              "Name: GamingHour, dtype: float64"
            ]
          },
          "execution_count": 8,
          "metadata": {
            "tags": []
          },
          "output_type": "execute_result"
        }
      ],
      "source": [
        "#Use of Cumulative sum\n",
        "df.GamingHour.cumsum()"
      ]
    },
    {
      "cell_type": "code",
      "execution_count": null,
      "metadata": {
        "colab": {
          "base_uri": "https://localhost:8080/",
          "height": 88
        },
        "colab_type": "code",
        "id": "pMUDJhBqBtK6",
        "outputId": "a3bb1eec-c00b-47b9-b132-7c2310cda5f4"
      },
      "outputs": [
        {
          "data": {
            "text/plain": [
              "StudyTime     3.250\n",
              "GamingHour    0.900\n",
              "GPA           3.236\n",
              "dtype: float64"
            ]
          },
          "execution_count": 10,
          "metadata": {
            "tags": []
          },
          "output_type": "execute_result"
        }
      ],
      "source": [
        "# Calculating mean\n",
        "df.mean()"
      ]
    },
    {
      "cell_type": "code",
      "execution_count": null,
      "metadata": {
        "colab": {
          "base_uri": "https://localhost:8080/",
          "height": 35
        },
        "colab_type": "code",
        "id": "HgAvtMpfB8YE",
        "outputId": "0b121699-aa8a-4a14-9404-72c58055124e"
      },
      "outputs": [
        {
          "data": {
            "text/plain": [
              "3.2359999999999998"
            ]
          },
          "execution_count": 11,
          "metadata": {
            "tags": []
          },
          "output_type": "execute_result"
        }
      ],
      "source": [
        "#Calculating mean of a specific variable\n",
        "df.GPA.mean()"
      ]
    },
    {
      "cell_type": "code",
      "execution_count": null,
      "metadata": {
        "colab": {
          "base_uri": "https://localhost:8080/",
          "height": 88
        },
        "colab_type": "code",
        "id": "-fU9IT3vCGQg",
        "outputId": "922251e5-6e3a-4d50-c767-a1006a0b2259"
      },
      "outputs": [
        {
          "data": {
            "text/plain": [
              "StudyTime     3.25\n",
              "GamingHour    0.50\n",
              "GPA           3.31\n",
              "dtype: float64"
            ]
          },
          "execution_count": 12,
          "metadata": {
            "tags": []
          },
          "output_type": "execute_result"
        }
      ],
      "source": [
        "# Calculating median\n",
        "df.median()"
      ]
    },
    {
      "cell_type": "code",
      "execution_count": null,
      "metadata": {
        "colab": {
          "base_uri": "https://localhost:8080/",
          "height": 52
        },
        "colab_type": "code",
        "id": "O9wiVX4mCQ8d",
        "outputId": "5c0203f8-72e9-4fa3-aa65-0fe80b07de65"
      },
      "outputs": [
        {
          "data": {
            "text/plain": [
              "0    4.0\n",
              "dtype: float64"
            ]
          },
          "execution_count": 16,
          "metadata": {
            "tags": []
          },
          "output_type": "execute_result"
        }
      ],
      "source": [
        "# Calculating mode\n",
        "df.StudyTime.mode()"
      ]
    },
    {
      "cell_type": "code",
      "execution_count": null,
      "metadata": {
        "colab": {
          "base_uri": "https://localhost:8080/",
          "height": 106
        },
        "colab_type": "code",
        "id": "2H7MRA3aDnTh",
        "outputId": "af4b593a-9655-490b-8f3b-4f871ab78cd0"
      },
      "outputs": [
        {
          "data": {
            "text/plain": [
              "Name          Bablu\n",
              "StudyTime         1\n",
              "GamingHour        0\n",
              "GPA            2.35\n",
              "dtype: object"
            ]
          },
          "execution_count": 17,
          "metadata": {
            "tags": []
          },
          "output_type": "execute_result"
        }
      ],
      "source": [
        "#Checking minimum values\n",
        "df.min()"
      ]
    },
    {
      "cell_type": "code",
      "execution_count": null,
      "metadata": {
        "colab": {
          "base_uri": "https://localhost:8080/",
          "height": 106
        },
        "colab_type": "code",
        "id": "JNAbuyFYDv3Q",
        "outputId": "d17b6f66-85a0-4eb0-ecb6-fc0e587fc885"
      },
      "outputs": [
        {
          "data": {
            "text/plain": [
              "Name          Sara\n",
              "StudyTime        6\n",
              "GamingHour       3\n",
              "GPA           3.97\n",
              "dtype: object"
            ]
          },
          "execution_count": 18,
          "metadata": {
            "tags": []
          },
          "output_type": "execute_result"
        }
      ],
      "source": [
        "#Checking maximum values\n",
        "df.max()"
      ]
    },
    {
      "cell_type": "code",
      "execution_count": null,
      "metadata": {
        "colab": {
          "base_uri": "https://localhost:8080/",
          "height": 88
        },
        "colab_type": "code",
        "id": "T6Ne9dR_EHSN",
        "outputId": "6c9e3473-e8a4-47c5-fb3a-0ed1ade56afe"
      },
      "outputs": [
        {
          "data": {
            "text/plain": [
              "StudyTime     5.00\n",
              "GamingHour    3.00\n",
              "GPA           1.62\n",
              "dtype: float64"
            ]
          },
          "execution_count": 19,
          "metadata": {
            "tags": []
          },
          "output_type": "execute_result"
        }
      ],
      "source": [
        "#Checking range (after excluding string value valriable 'Name')\n",
        "range=df[['StudyTime','GamingHour','GPA']].max()-df[['StudyTime','GamingHour','GPA']].min()\n",
        "range"
      ]
    },
    {
      "cell_type": "code",
      "execution_count": null,
      "metadata": {
        "colab": {
          "base_uri": "https://localhost:8080/",
          "height": 88
        },
        "colab_type": "code",
        "id": "tg7HssFuGECa",
        "outputId": "fa36cb16-13fc-4e71-c60b-05689287ab09"
      },
      "outputs": [
        {
          "data": {
            "text/plain": [
              "StudyTime     2.458333\n",
              "GamingHour    0.877778\n",
              "GPA           0.351293\n",
              "dtype: float64"
            ]
          },
          "execution_count": 20,
          "metadata": {
            "tags": []
          },
          "output_type": "execute_result"
        }
      ],
      "source": [
        "#Calculating Variance\n",
        "df.var()"
      ]
    },
    {
      "cell_type": "code",
      "execution_count": null,
      "metadata": {
        "colab": {
          "base_uri": "https://localhost:8080/",
          "height": 88
        },
        "colab_type": "code",
        "id": "B9jiSycbG-EQ",
        "outputId": "f4b0dd89-74af-4104-e4d0-bd64cea272f6"
      },
      "outputs": [
        {
          "data": {
            "text/plain": [
              "StudyTime     1.567907\n",
              "GamingHour    0.936898\n",
              "GPA           0.592700\n",
              "dtype: float64"
            ]
          },
          "execution_count": 21,
          "metadata": {
            "tags": []
          },
          "output_type": "execute_result"
        }
      ],
      "source": [
        "#Calculating Standard Deviation\n",
        "df.std()"
      ]
    },
    {
      "cell_type": "code",
      "execution_count": null,
      "metadata": {
        "colab": {
          "base_uri": "https://localhost:8080/",
          "height": 139
        },
        "colab_type": "code",
        "id": "8IgVfxPVCjBQ",
        "outputId": "f5bf902b-77b5-4dda-e886-3323b739c791"
      },
      "outputs": [
        {
          "data": {
            "text/html": [
              "<div>\n",
              "<style scoped>\n",
              "    .dataframe tbody tr th:only-of-type {\n",
              "        vertical-align: middle;\n",
              "    }\n",
              "\n",
              "    .dataframe tbody tr th {\n",
              "        vertical-align: top;\n",
              "    }\n",
              "\n",
              "    .dataframe thead th {\n",
              "        text-align: right;\n",
              "    }\n",
              "</style>\n",
              "<table border=\"1\" class=\"dataframe\">\n",
              "  <thead>\n",
              "    <tr style=\"text-align: right;\">\n",
              "      <th></th>\n",
              "      <th>StudyTime</th>\n",
              "      <th>GamingHour</th>\n",
              "      <th>GPA</th>\n",
              "    </tr>\n",
              "  </thead>\n",
              "  <tbody>\n",
              "    <tr>\n",
              "      <th>StudyTime</th>\n",
              "      <td>2.458333</td>\n",
              "      <td>-1.194444</td>\n",
              "      <td>0.827222</td>\n",
              "    </tr>\n",
              "    <tr>\n",
              "      <th>GamingHour</th>\n",
              "      <td>-1.194444</td>\n",
              "      <td>0.877778</td>\n",
              "      <td>-0.418222</td>\n",
              "    </tr>\n",
              "    <tr>\n",
              "      <th>GPA</th>\n",
              "      <td>0.827222</td>\n",
              "      <td>-0.418222</td>\n",
              "      <td>0.351293</td>\n",
              "    </tr>\n",
              "  </tbody>\n",
              "</table>\n",
              "</div>"
            ],
            "text/plain": [
              "            StudyTime  GamingHour       GPA\n",
              "StudyTime    2.458333   -1.194444  0.827222\n",
              "GamingHour  -1.194444    0.877778 -0.418222\n",
              "GPA          0.827222   -0.418222  0.351293"
            ]
          },
          "execution_count": 22,
          "metadata": {
            "tags": []
          },
          "output_type": "execute_result"
        }
      ],
      "source": [
        "#Checking covariance\n",
        "df.cov()"
      ]
    },
    {
      "cell_type": "code",
      "execution_count": null,
      "metadata": {
        "colab": {
          "base_uri": "https://localhost:8080/",
          "height": 139
        },
        "colab_type": "code",
        "id": "H2WlVriUDCCa",
        "outputId": "3a501c0f-2093-4e6e-9935-584916509b89"
      },
      "outputs": [
        {
          "data": {
            "text/html": [
              "<div>\n",
              "<style scoped>\n",
              "    .dataframe tbody tr th:only-of-type {\n",
              "        vertical-align: middle;\n",
              "    }\n",
              "\n",
              "    .dataframe tbody tr th {\n",
              "        vertical-align: top;\n",
              "    }\n",
              "\n",
              "    .dataframe thead th {\n",
              "        text-align: right;\n",
              "    }\n",
              "</style>\n",
              "<table border=\"1\" class=\"dataframe\">\n",
              "  <thead>\n",
              "    <tr style=\"text-align: right;\">\n",
              "      <th></th>\n",
              "      <th>StudyTime</th>\n",
              "      <th>GamingHour</th>\n",
              "      <th>GPA</th>\n",
              "    </tr>\n",
              "  </thead>\n",
              "  <tbody>\n",
              "    <tr>\n",
              "      <th>StudyTime</th>\n",
              "      <td>1.000000</td>\n",
              "      <td>-0.813117</td>\n",
              "      <td>0.890157</td>\n",
              "    </tr>\n",
              "    <tr>\n",
              "      <th>GamingHour</th>\n",
              "      <td>-0.813117</td>\n",
              "      <td>1.000000</td>\n",
              "      <td>-0.753147</td>\n",
              "    </tr>\n",
              "    <tr>\n",
              "      <th>GPA</th>\n",
              "      <td>0.890157</td>\n",
              "      <td>-0.753147</td>\n",
              "      <td>1.000000</td>\n",
              "    </tr>\n",
              "  </tbody>\n",
              "</table>\n",
              "</div>"
            ],
            "text/plain": [
              "            StudyTime  GamingHour       GPA\n",
              "StudyTime    1.000000   -0.813117  0.890157\n",
              "GamingHour  -0.813117    1.000000 -0.753147\n",
              "GPA          0.890157   -0.753147  1.000000"
            ]
          },
          "execution_count": 23,
          "metadata": {
            "tags": []
          },
          "output_type": "execute_result"
        }
      ],
      "source": [
        "#Checking correlation\n",
        "df.corr()"
      ]
    },
    {
      "cell_type": "code",
      "execution_count": null,
      "metadata": {
        "colab": {
          "base_uri": "https://localhost:8080/",
          "height": 88
        },
        "colab_type": "code",
        "id": "bKId6C2pDEx3",
        "outputId": "dddc00fd-eee8-4737-fc87-a037d5728e4b"
      },
      "outputs": [
        {
          "data": {
            "text/plain": [
              "StudyTime     0.283764\n",
              "GamingHour    1.499697\n",
              "GPA          -0.283563\n",
              "dtype: float64"
            ]
          },
          "execution_count": 24,
          "metadata": {
            "tags": []
          },
          "output_type": "execute_result"
        }
      ],
      "source": [
        "#Checking Skewness\n",
        "df.skew()"
      ]
    },
    {
      "cell_type": "code",
      "execution_count": null,
      "metadata": {
        "colab": {
          "base_uri": "https://localhost:8080/",
          "height": 88
        },
        "colab_type": "code",
        "id": "w9X3Ev4hDKuA",
        "outputId": "951d6a5d-817c-4df1-d475-b2502a90eff3"
      },
      "outputs": [
        {
          "data": {
            "text/plain": [
              "StudyTime    -0.548118\n",
              "GamingHour    1.985173\n",
              "GPA          -1.396490\n",
              "dtype: float64"
            ]
          },
          "execution_count": 25,
          "metadata": {
            "tags": []
          },
          "output_type": "execute_result"
        }
      ],
      "source": [
        "#Checking Skewness\n",
        "df.kurtosis()"
      ]
    },
    {
      "cell_type": "code",
      "execution_count": null,
      "metadata": {
        "colab": {
          "base_uri": "https://localhost:8080/",
          "height": 88
        },
        "colab_type": "code",
        "id": "IfU5SVTrDQ3Y",
        "outputId": "867cb2a2-4ed7-4d48-a1af-e9e9aec500b6"
      },
      "outputs": [
        {
          "data": {
            "text/plain": [
              "StudyTime     2.125\n",
              "GamingHour    0.500\n",
              "GPA           2.850\n",
              "Name: 0.25, dtype: float64"
            ]
          },
          "execution_count": 26,
          "metadata": {
            "tags": []
          },
          "output_type": "execute_result"
        }
      ],
      "source": [
        "#Checking Quantile\n",
        "df.quantile(.25)"
      ]
    },
    {
      "cell_type": "code",
      "execution_count": null,
      "metadata": {
        "colab": {
          "base_uri": "https://localhost:8080/",
          "height": 88
        },
        "colab_type": "code",
        "id": "DyQVkBIQHhKH",
        "outputId": "b178b824-d497-45a0-fbdb-28c77a3e580d"
      },
      "outputs": [
        {
          "data": {
            "text/plain": [
              "StudyTime     1.875\n",
              "GamingHour    0.500\n",
              "GPA           0.805\n",
              "dtype: float64"
            ]
          },
          "execution_count": 27,
          "metadata": {
            "tags": []
          },
          "output_type": "execute_result"
        }
      ],
      "source": [
        "#Calculating IRQ\n",
        "irq=df.quantile(.75)-df.quantile(.25)\n",
        "irq"
      ]
    },
    {
      "cell_type": "code",
      "execution_count": null,
      "metadata": {
        "colab": {
          "base_uri": "https://localhost:8080/",
          "height": 291
        },
        "colab_type": "code",
        "id": "TR0VjilqH4jD",
        "outputId": "700b7772-b32f-4679-8d38-a80ba2e3937f"
      },
      "outputs": [
        {
          "data": {
            "text/html": [
              "<div>\n",
              "<style scoped>\n",
              "    .dataframe tbody tr th:only-of-type {\n",
              "        vertical-align: middle;\n",
              "    }\n",
              "\n",
              "    .dataframe tbody tr th {\n",
              "        vertical-align: top;\n",
              "    }\n",
              "\n",
              "    .dataframe thead th {\n",
              "        text-align: right;\n",
              "    }\n",
              "</style>\n",
              "<table border=\"1\" class=\"dataframe\">\n",
              "  <thead>\n",
              "    <tr style=\"text-align: right;\">\n",
              "      <th></th>\n",
              "      <th>StudyTime</th>\n",
              "      <th>GamingHour</th>\n",
              "      <th>GPA</th>\n",
              "    </tr>\n",
              "  </thead>\n",
              "  <tbody>\n",
              "    <tr>\n",
              "      <th>count</th>\n",
              "      <td>10.000000</td>\n",
              "      <td>10.000000</td>\n",
              "      <td>10.0000</td>\n",
              "    </tr>\n",
              "    <tr>\n",
              "      <th>mean</th>\n",
              "      <td>3.250000</td>\n",
              "      <td>0.900000</td>\n",
              "      <td>3.2360</td>\n",
              "    </tr>\n",
              "    <tr>\n",
              "      <th>std</th>\n",
              "      <td>1.567907</td>\n",
              "      <td>0.936898</td>\n",
              "      <td>0.5927</td>\n",
              "    </tr>\n",
              "    <tr>\n",
              "      <th>min</th>\n",
              "      <td>1.000000</td>\n",
              "      <td>0.000000</td>\n",
              "      <td>2.3500</td>\n",
              "    </tr>\n",
              "    <tr>\n",
              "      <th>25%</th>\n",
              "      <td>2.125000</td>\n",
              "      <td>0.500000</td>\n",
              "      <td>2.8500</td>\n",
              "    </tr>\n",
              "    <tr>\n",
              "      <th>50%</th>\n",
              "      <td>3.250000</td>\n",
              "      <td>0.500000</td>\n",
              "      <td>3.3100</td>\n",
              "    </tr>\n",
              "    <tr>\n",
              "      <th>75%</th>\n",
              "      <td>4.000000</td>\n",
              "      <td>1.000000</td>\n",
              "      <td>3.6550</td>\n",
              "    </tr>\n",
              "    <tr>\n",
              "      <th>max</th>\n",
              "      <td>6.000000</td>\n",
              "      <td>3.000000</td>\n",
              "      <td>3.9700</td>\n",
              "    </tr>\n",
              "  </tbody>\n",
              "</table>\n",
              "</div>"
            ],
            "text/plain": [
              "       StudyTime  GamingHour      GPA\n",
              "count  10.000000   10.000000  10.0000\n",
              "mean    3.250000    0.900000   3.2360\n",
              "std     1.567907    0.936898   0.5927\n",
              "min     1.000000    0.000000   2.3500\n",
              "25%     2.125000    0.500000   2.8500\n",
              "50%     3.250000    0.500000   3.3100\n",
              "75%     4.000000    1.000000   3.6550\n",
              "max     6.000000    3.000000   3.9700"
            ]
          },
          "execution_count": 28,
          "metadata": {
            "tags": []
          },
          "output_type": "execute_result"
        }
      ],
      "source": [
        "#Describing the whole dataset\n",
        "df.describe()"
      ]
    },
    {
      "cell_type": "code",
      "execution_count": null,
      "metadata": {
        "colab": {
          "base_uri": "https://localhost:8080/",
          "height": 382
        },
        "colab_type": "code",
        "id": "-Ea8yKbFIAxf",
        "outputId": "d8887ba4-6497-4f2b-9889-e3251dae66b7"
      },
      "outputs": [
        {
          "data": {
            "text/html": [
              "<div>\n",
              "<style scoped>\n",
              "    .dataframe tbody tr th:only-of-type {\n",
              "        vertical-align: middle;\n",
              "    }\n",
              "\n",
              "    .dataframe tbody tr th {\n",
              "        vertical-align: top;\n",
              "    }\n",
              "\n",
              "    .dataframe thead th {\n",
              "        text-align: right;\n",
              "    }\n",
              "</style>\n",
              "<table border=\"1\" class=\"dataframe\">\n",
              "  <thead>\n",
              "    <tr style=\"text-align: right;\">\n",
              "      <th></th>\n",
              "      <th>Name</th>\n",
              "      <th>StudyTime</th>\n",
              "      <th>GamingHour</th>\n",
              "      <th>GPA</th>\n",
              "    </tr>\n",
              "  </thead>\n",
              "  <tbody>\n",
              "    <tr>\n",
              "      <th>count</th>\n",
              "      <td>10</td>\n",
              "      <td>10.000000</td>\n",
              "      <td>10.000000</td>\n",
              "      <td>10.0000</td>\n",
              "    </tr>\n",
              "    <tr>\n",
              "      <th>unique</th>\n",
              "      <td>10</td>\n",
              "      <td>NaN</td>\n",
              "      <td>NaN</td>\n",
              "      <td>NaN</td>\n",
              "    </tr>\n",
              "    <tr>\n",
              "      <th>top</th>\n",
              "      <td>Gopal</td>\n",
              "      <td>NaN</td>\n",
              "      <td>NaN</td>\n",
              "      <td>NaN</td>\n",
              "    </tr>\n",
              "    <tr>\n",
              "      <th>freq</th>\n",
              "      <td>1</td>\n",
              "      <td>NaN</td>\n",
              "      <td>NaN</td>\n",
              "      <td>NaN</td>\n",
              "    </tr>\n",
              "    <tr>\n",
              "      <th>mean</th>\n",
              "      <td>NaN</td>\n",
              "      <td>3.250000</td>\n",
              "      <td>0.900000</td>\n",
              "      <td>3.2360</td>\n",
              "    </tr>\n",
              "    <tr>\n",
              "      <th>std</th>\n",
              "      <td>NaN</td>\n",
              "      <td>1.567907</td>\n",
              "      <td>0.936898</td>\n",
              "      <td>0.5927</td>\n",
              "    </tr>\n",
              "    <tr>\n",
              "      <th>min</th>\n",
              "      <td>NaN</td>\n",
              "      <td>1.000000</td>\n",
              "      <td>0.000000</td>\n",
              "      <td>2.3500</td>\n",
              "    </tr>\n",
              "    <tr>\n",
              "      <th>25%</th>\n",
              "      <td>NaN</td>\n",
              "      <td>2.125000</td>\n",
              "      <td>0.500000</td>\n",
              "      <td>2.8500</td>\n",
              "    </tr>\n",
              "    <tr>\n",
              "      <th>50%</th>\n",
              "      <td>NaN</td>\n",
              "      <td>3.250000</td>\n",
              "      <td>0.500000</td>\n",
              "      <td>3.3100</td>\n",
              "    </tr>\n",
              "    <tr>\n",
              "      <th>75%</th>\n",
              "      <td>NaN</td>\n",
              "      <td>4.000000</td>\n",
              "      <td>1.000000</td>\n",
              "      <td>3.6550</td>\n",
              "    </tr>\n",
              "    <tr>\n",
              "      <th>max</th>\n",
              "      <td>NaN</td>\n",
              "      <td>6.000000</td>\n",
              "      <td>3.000000</td>\n",
              "      <td>3.9700</td>\n",
              "    </tr>\n",
              "  </tbody>\n",
              "</table>\n",
              "</div>"
            ],
            "text/plain": [
              "         Name  StudyTime  GamingHour      GPA\n",
              "count      10  10.000000   10.000000  10.0000\n",
              "unique     10        NaN         NaN      NaN\n",
              "top     Gopal        NaN         NaN      NaN\n",
              "freq        1        NaN         NaN      NaN\n",
              "mean      NaN   3.250000    0.900000   3.2360\n",
              "std       NaN   1.567907    0.936898   0.5927\n",
              "min       NaN   1.000000    0.000000   2.3500\n",
              "25%       NaN   2.125000    0.500000   2.8500\n",
              "50%       NaN   3.250000    0.500000   3.3100\n",
              "75%       NaN   4.000000    1.000000   3.6550\n",
              "max       NaN   6.000000    3.000000   3.9700"
            ]
          },
          "execution_count": 29,
          "metadata": {
            "tags": []
          },
          "output_type": "execute_result"
        }
      ],
      "source": [
        "#Describing the whole dataset including string variable\n",
        "df.describe(include='all')"
      ]
    },
    {
      "cell_type": "code",
      "execution_count": null,
      "metadata": {
        "colab": {
          "base_uri": "https://localhost:8080/",
          "height": 370
        },
        "colab_type": "code",
        "id": "ZW48VU82Jjcf",
        "outputId": "b71ac54c-d375-4b06-b5e1-7680a5b675a4"
      },
      "outputs": [
        {
          "data": {
            "text/plain": [
              "array([[<matplotlib.axes._subplots.AxesSubplot object at 0x7fe1994d64e0>,\n",
              "        <matplotlib.axes._subplots.AxesSubplot object at 0x7fe1994ab7b8>],\n",
              "       [<matplotlib.axes._subplots.AxesSubplot object at 0x7fe19945ca20>,\n",
              "        <matplotlib.axes._subplots.AxesSubplot object at 0x7fe19940ec88>]],\n",
              "      dtype=object)"
            ]
          },
          "execution_count": 31,
          "metadata": {
            "tags": []
          },
          "output_type": "execute_result"
        },
        {
          "data": {
            "image/png": "[encoded data removed]",
            "text/plain": [
              "<Figure size 432x288 with 4 Axes>"
            ]
          },
          "metadata": {
            "needs_background": "light",
            "tags": []
          },
          "output_type": "display_data"
        }
      ],
      "source": [
        "import matplotlib.pyplot as plt\n",
        "import seaborn as sns\n",
        "df.hist()\n"
      ]
    },
    {
      "cell_type": "code",
      "execution_count": null,
      "metadata": {
        "colab": {
          "base_uri": "https://localhost:8080/",
          "height": 1000
        },
        "colab_type": "code",
        "id": "XP6LiPQ8IZGc",
        "outputId": "2e41e9d7-5aa6-4389-df69-72b282ce3ef5"
      },
      "outputs": [
        {
          "data": {
            "image/png": "[encoded data removed]",
            "text/plain": [
              "<Figure size 1080x1080 with 42 Axes>"
            ]
          },
          "metadata": {
            "tags": []
          },
          "output_type": "display_data"
        }
      ],
      "source": [
        "sns.pairplot(df);"
      ]
    },
    {
      "cell_type": "code",
      "execution_count": null,
      "metadata": {
        "colab": {},
        "colab_type": "code",
        "id": "TfEJqhlhJ_ER"
      },
      "outputs": [],
      "source": []
    }
  ],
  "metadata": {
    "colab": {
      "name": "1.1-BasicStat",
      "provenance": []
    },
    "kernelspec": {
      "display_name": "Python 3.10.4 64-bit",
      "language": "python",
      "name": "python3"
    },
    "language_info": {
      "codemirror_mode": {
        "name": "ipython",
        "version": 3
      },
      "file_extension": ".py",
      "mimetype": "text/x-python",
      "name": "python",
      "nbconvert_exporter": "python",
      "pygments_lexer": "ipython3",
      "version": "3.10.4"
    },
    "vscode": {
      "interpreter": {
        "hash": "369f2c481f4da34e4445cda3fffd2e751bd1c4d706f27375911949ba6bb62e1c"
      }
    }
  },
  "nbformat": 4,
  "nbformat_minor": 0
}
